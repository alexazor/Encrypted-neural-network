{
 "cells": [
  {
   "cell_type": "markdown",
   "metadata": {},
   "source": [
    "# Initialisation"
   ]
  },
  {
   "cell_type": "markdown",
   "metadata": {},
   "source": [
    "## Import libraries and modules"
   ]
  },
  {
   "cell_type": "code",
   "execution_count": null,
   "metadata": {},
   "outputs": [],
   "source": [
    "import pandas as pd\n",
    "import numpy as np\n",
    "\n",
    "from neural_network import Neural_Network\n",
    "from data_visualisation import *\n",
    "\n",
    "%matplotlib inline"
   ]
  },
  {
   "cell_type": "markdown",
   "metadata": {},
   "source": [
    "## Import data"
   ]
  },
  {
   "cell_type": "code",
   "execution_count": null,
   "metadata": {},
   "outputs": [],
   "source": [
    "data_set = pd.read_excel(\"../../data/data-1000.xlsx\")\n",
    "data_set.describe()\n"
   ]
  },
  {
   "cell_type": "markdown",
   "metadata": {},
   "source": [
    "## Extracting the useful data"
   ]
  },
  {
   "cell_type": "code",
   "execution_count": null,
   "metadata": {},
   "outputs": [],
   "source": [
    "def extract_features(data_set, *argv):\n",
    "    features_names = []\n",
    "    for feature in argv:\n",
    "        features_names.append(feature)\n",
    "        \n",
    "    features_df = data_set[features_names]\n",
    "    features_matrix = features_df.to_numpy()\n",
    "    features_matrix = np.transpose(features_matrix)\n",
    "    \n",
    "    total_set_size = features_matrix.shape[1]\n",
    "    train_set_size = int(0.8*total_set_size)\n",
    "    \n",
    "    features_train = features_matrix[:, :train_set_size]\n",
    "    features_test = features_matrix[:, train_set_size:]\n",
    "    \n",
    "    return features_train, features_test"
   ]
  },
  {
   "cell_type": "code",
   "execution_count": null,
   "metadata": {},
   "outputs": [],
   "source": [
    "X1_train, X1_test = extract_features(data_set, \"X1\")\n",
    "X2_train, X2_test = extract_features(data_set, \"X2\")\n",
    "X1X2_train, X1X2_test = extract_features(data_set, \"X1\", \"X2\")\n",
    "\n",
    "Y1_train, Y1_test = extract_features(data_set, \"Y1\")\n",
    "Y2_train, Y2_test = extract_features(data_set, \"Y2\")\n",
    "Y3_train, Y3_test = extract_features(data_set, \"Y3\")\n",
    "Y4_train, Y4_test = extract_features(data_set, \"Y4\")\n",
    "Y5_train, Y5_test = extract_features(data_set, \"Y5\")\n",
    "Y6_train, Y6_test = extract_features(data_set, \"Y6\")\n",
    "Y7_train, Y7_test = extract_features(data_set, \"Y7\")"
   ]
  },
  {
   "cell_type": "code",
   "execution_count": null,
   "metadata": {},
   "outputs": [],
   "source": [
    "print(X1X2_train.shape)"
   ]
  },
  {
   "cell_type": "markdown",
   "metadata": {},
   "source": [
    "# Test 0: Identity function"
   ]
  },
  {
   "cell_type": "markdown",
   "metadata": {},
   "source": [
    "## Creating the neural network"
   ]
  },
  {
   "cell_type": "code",
   "execution_count": null,
   "metadata": {},
   "outputs": [],
   "source": [
    "neurons_per_layer_00 = [1, 1]\n",
    "lr_00 = 0.005\n",
    "\n",
    "nn_00 = Neural_Network(neurons_per_layer_00, lr_00)"
   ]
  },
  {
   "cell_type": "markdown",
   "metadata": {},
   "source": [
    "## Training"
   ]
  },
  {
   "cell_type": "code",
   "execution_count": null,
   "metadata": {},
   "outputs": [],
   "source": [
    "cost_list_00 = nn_00.fit(X1_train, X1_train, X1_test, X1_test, 100, batch_size=10)\n",
    "\n",
    "print_cost(cost_list_00)\n",
    "print_cost_log(cost_list_00)"
   ]
  },
  {
   "cell_type": "markdown",
   "metadata": {},
   "source": [
    "## Show result"
   ]
  },
  {
   "cell_type": "code",
   "execution_count": null,
   "metadata": {},
   "outputs": [],
   "source": [
    "Y_test_pred_00 = nn_00.predict(X1_test)\n",
    "\n",
    "print_regression(X1_train, X1_train, X1_test, X1_test, Y_test_pred_00)"
   ]
  },
  {
   "cell_type": "markdown",
   "metadata": {},
   "source": [
    "## Indivual tests"
   ]
  },
  {
   "cell_type": "code",
   "execution_count": null,
   "metadata": {},
   "outputs": [],
   "source": [
    "x_00 = np.array([[0.1, 0.2, 0.3, 0.4, 0.5]])\n",
    "y_p_00 = nn_00.predict(x_00)\n",
    "\n",
    "print(y_p_00)"
   ]
  },
  {
   "cell_type": "markdown",
   "metadata": {},
   "source": [
    "# Test 1: $10X_1 - 3X_2$"
   ]
  },
  {
   "cell_type": "markdown",
   "metadata": {},
   "source": [
    "## Creating the neural network"
   ]
  },
  {
   "cell_type": "code",
   "execution_count": null,
   "metadata": {},
   "outputs": [],
   "source": [
    "neurons_per_layer_01 = [2, 2, 1]\n",
    "lr_01 = 0.001\n",
    "\n",
    "nn_01 = Neural_Network(neurons_per_layer_01, lr_01)"
   ]
  },
  {
   "cell_type": "markdown",
   "metadata": {},
   "source": [
    "## Training"
   ]
  },
  {
   "cell_type": "code",
   "execution_count": null,
   "metadata": {},
   "outputs": [],
   "source": [
    "cost_list_01 = nn_01.fit(X1X2_train, Y1_train, X1X2_test, Y1_test, 100, batch_size=10)\n",
    "\n",
    "print_cost(cost_list_01)\n",
    "print_cost_log(cost_list_01)"
   ]
  },
  {
   "cell_type": "code",
   "execution_count": null,
   "metadata": {},
   "outputs": [],
   "source": [
    "Y_test_pred_01 = nn_01.predict(X1X2_test)"
   ]
  },
  {
   "cell_type": "code",
   "execution_count": null,
   "metadata": {},
   "outputs": [],
   "source": [
    "print_classification(X1X2_train, Y1_train, X1X2_test, Y1_test, Y_test_pred_01, 2)"
   ]
  },
  {
   "cell_type": "markdown",
   "metadata": {},
   "source": [
    "## Manual tests"
   ]
  },
  {
   "cell_type": "code",
   "execution_count": null,
   "metadata": {},
   "outputs": [],
   "source": [
    "x_01 = np.array([[0.1, 0.4, 0.5, 0.8], \n",
    "              [0.2, 0.3, 0.6, 0.7]])\n",
    "y_p_01 = nn_01.predict(x_01)\n",
    "y_01 = 10*x_01[0] - 3*x_01[1]\n",
    "\n",
    "for y in y_p_01[0]:\n",
    "    print(f\"{y: .2f}\", end = \" \")\n",
    "print()\n",
    "for y in y_01:\n",
    "    print(f\"{y: .2f}\", end = \" \")"
   ]
  },
  {
   "cell_type": "markdown",
   "metadata": {},
   "source": [
    "# Test 2: $X_1 \\geq X_2$"
   ]
  },
  {
   "cell_type": "markdown",
   "metadata": {},
   "source": [
    "## Creating the neural network"
   ]
  },
  {
   "cell_type": "code",
   "execution_count": null,
   "metadata": {},
   "outputs": [],
   "source": [
    "neurons_per_layer_02 = [2, 10, 1]\n",
    "lr_02 = 0.01\n",
    "\n",
    "nn_02 = Neural_Network(neurons_per_layer_02, lr_02)"
   ]
  },
  {
   "cell_type": "markdown",
   "metadata": {},
   "source": [
    "## Training"
   ]
  },
  {
   "cell_type": "code",
   "execution_count": null,
   "metadata": {},
   "outputs": [],
   "source": [
    "cost_list_02 = nn_02.fit(X1X2_train, Y2_train, X1X2_test, Y2_test, 100, batch_size=10)\n",
    "\n",
    "print_cost(cost_list_02)\n",
    "print_cost_log(cost_list_02)"
   ]
  },
  {
   "cell_type": "code",
   "execution_count": null,
   "metadata": {},
   "outputs": [],
   "source": [
    "Y_test_pred_02 = nn_02.predict(X1X2_test)"
   ]
  },
  {
   "cell_type": "code",
   "execution_count": null,
   "metadata": {},
   "outputs": [],
   "source": [
    "print_classification(X1X2_train, Y2_train, X1X2_test, Y2_test, Y_test_pred_02, 0.5)"
   ]
  },
  {
   "cell_type": "markdown",
   "metadata": {},
   "source": [
    "## Manual tests"
   ]
  },
  {
   "cell_type": "code",
   "execution_count": null,
   "metadata": {},
   "outputs": [],
   "source": [
    "x_02 = np.array([[0.1, 0.4, 0.5, 0.8, 0.505, 0.9, 0.1], \n",
    "                 [0.2, 0.3, 0.6, 0.7, 0.5, 0.1, 0.9]])\n",
    "y_p_02 = nn_02.predict(x_02)\n",
    "y_02 = x_02[0] >= x_02[1]\n",
    "\n",
    "for p in y_p_02[0]:\n",
    "    print(f\"{p: .2f}\", end=\" \")\n",
    "print()\n",
    "print((y_p_02 >= 0.5)[0])\n",
    "print(y_02)"
   ]
  },
  {
   "cell_type": "markdown",
   "metadata": {},
   "source": [
    "# Test 3: $100*(X_1)^2$"
   ]
  },
  {
   "cell_type": "markdown",
   "metadata": {},
   "source": [
    "## Creating the neural network"
   ]
  },
  {
   "cell_type": "code",
   "execution_count": null,
   "metadata": {},
   "outputs": [],
   "source": [
    "neurons_per_layer_03 = [1, 10, 1]\n",
    "lr_03 = 0.005\n",
    "\n",
    "nn_03 = Neural_Network(neurons_per_layer_03, lr_03)"
   ]
  },
  {
   "cell_type": "markdown",
   "metadata": {},
   "source": [
    "## Training"
   ]
  },
  {
   "cell_type": "code",
   "execution_count": null,
   "metadata": {},
   "outputs": [],
   "source": [
    "cost_list_03 = nn_03.fit(X1_train, Y3_train, X1_test, Y3_test, 100, batch_size=10)\n",
    "\n",
    "print_cost(cost_list_03)\n",
    "print_cost_log(cost_list_03)"
   ]
  },
  {
   "cell_type": "markdown",
   "metadata": {},
   "source": [
    "## Show results"
   ]
  },
  {
   "cell_type": "code",
   "execution_count": null,
   "metadata": {},
   "outputs": [],
   "source": [
    "Y_test_pred_03 = nn_03.predict(X1_test)\n",
    "\n",
    "print_regression(X1_train, Y3_train, X1_test, Y3_test, Y_test_pred_03)"
   ]
  },
  {
   "cell_type": "markdown",
   "metadata": {},
   "source": [
    "## Manual tests"
   ]
  },
  {
   "cell_type": "code",
   "execution_count": null,
   "metadata": {},
   "outputs": [],
   "source": [
    "x_03 = np.array([[0, 0.1, 0.2, 0.3, 0.4, 0.5, 0.6, 0.7, 0.8, 0.9, 1]])\n",
    "y_p_03 = nn_03.predict(x_03)\n",
    "y_03 = 100*x_03*x_03\n",
    "\n",
    "\n",
    "for u, v in zip(y_p_03[0], y_03[0]):\n",
    "    print(f\"{u: .2f} -- {int(v)}\")"
   ]
  },
  {
   "cell_type": "markdown",
   "metadata": {},
   "source": [
    "# Test 4: $10*X_1(X_1 - X_2)$"
   ]
  },
  {
   "cell_type": "markdown",
   "metadata": {},
   "source": [
    "## Creation of the neural network"
   ]
  },
  {
   "cell_type": "code",
   "execution_count": null,
   "metadata": {},
   "outputs": [],
   "source": [
    "neurons_per_layer_04 = [2, 10, 1]\n",
    "lr_04 = 0.01\n",
    "\n",
    "nn_04 = Neural_Network(neurons_per_layer_04, lr_04)"
   ]
  },
  {
   "cell_type": "markdown",
   "metadata": {},
   "source": [
    "## Training"
   ]
  },
  {
   "cell_type": "code",
   "execution_count": null,
   "metadata": {},
   "outputs": [],
   "source": [
    "cost_list_04 = nn_04.fit(X1X2_train, Y4_train, X1X2_test, Y4_test, 100, batch_size=10)\n",
    "\n",
    "print_cost(cost_list_04)\n",
    "print_cost_log(cost_list_04)"
   ]
  },
  {
   "cell_type": "code",
   "execution_count": null,
   "metadata": {},
   "outputs": [],
   "source": [
    "print(cost_list_04[-1])\n",
    "print(np.log10(cost_list_04[-1]))"
   ]
  },
  {
   "cell_type": "markdown",
   "metadata": {},
   "source": [
    "## Show results"
   ]
  },
  {
   "cell_type": "code",
   "execution_count": null,
   "metadata": {},
   "outputs": [],
   "source": [
    "Y_test_pred_04 = nn_04.predict(X1X2_test)"
   ]
  },
  {
   "cell_type": "code",
   "execution_count": null,
   "metadata": {},
   "outputs": [],
   "source": [
    "print_classification(X1X2_train, Y4_train, X1X2_test, Y4_test, Y_test_pred_04, 1)"
   ]
  },
  {
   "cell_type": "markdown",
   "metadata": {},
   "source": [
    "## Manual tests"
   ]
  },
  {
   "cell_type": "code",
   "execution_count": null,
   "metadata": {},
   "outputs": [],
   "source": [
    "x_04 = np.array([[0,   0.3, 0.4, 0.7, 0.8],\n",
    "                [0.1, 0.2, 0.5, 0.6, 0.9]])\n",
    "\n",
    "y_p_04 = nn_04.predict(x_04)\n",
    "y_04 = 10*x_04[0]*x_04[0] - 10*x_04[0]*x_04[1]\n",
    "\n",
    "for u, v in zip(y_p_04[0], y_04):\n",
    "    print(f\"{u: .3f} -- {v: .3f}\")"
   ]
  },
  {
   "cell_type": "markdown",
   "metadata": {},
   "source": [
    "# Test 5: $1 + \\sin(2\\pi X_1)$"
   ]
  },
  {
   "cell_type": "markdown",
   "metadata": {},
   "source": [
    "## Creation of the neural network"
   ]
  },
  {
   "cell_type": "code",
   "execution_count": null,
   "metadata": {},
   "outputs": [],
   "source": [
    "neurons_per_layer_05 = [1, 10, 1]\n",
    "lr_05 = 0.01\n",
    "nn_05 = Neural_Network(neurons_per_layer_05, lr_05)"
   ]
  },
  {
   "cell_type": "markdown",
   "metadata": {},
   "source": [
    "## Training"
   ]
  },
  {
   "cell_type": "code",
   "execution_count": null,
   "metadata": {},
   "outputs": [],
   "source": [
    "cost_list_05 = nn_05.fit(X1_train, Y5_train, X1_test, Y5_test, 100, batch_size=10)\n",
    "\n",
    "print_cost(cost_list_05)\n",
    "print_cost_log(cost_list_05)"
   ]
  },
  {
   "cell_type": "code",
   "execution_count": null,
   "metadata": {},
   "outputs": [],
   "source": [
    "import numpy as np\n",
    "#[1, 4, 4, 4, 4, 1], \n",
    "# lr: 0.01, \n",
    "#epoch: 20\n",
    "#batch: 1\n",
    "print(cost_list_05[-1]) #0.032\n",
    "print(np.log10(cost_list_05[-1])) #-1.5"
   ]
  },
  {
   "cell_type": "markdown",
   "metadata": {},
   "source": [
    "## Show results"
   ]
  },
  {
   "cell_type": "code",
   "execution_count": null,
   "metadata": {},
   "outputs": [],
   "source": [
    "Y_test_pred_05 = nn_05.predict(X1_test)\n",
    "\n",
    "print_regression(X1_train, Y5_train, X1_test, Y5_test, Y_test_pred_05)"
   ]
  },
  {
   "cell_type": "markdown",
   "metadata": {},
   "source": [
    "## Manual tests"
   ]
  },
  {
   "cell_type": "code",
   "execution_count": null,
   "metadata": {},
   "outputs": [],
   "source": [
    "import numpy as np\n",
    "\n",
    "x_05 = np.array([[i/12 for i in range(12)]])\n",
    "y_p_05 = nn_05.predict(x_05)\n",
    "y_05 = 1 + np.sin(2*np.pi*x_05)\n",
    "\n",
    "\n",
    "for u, v in zip(y_p_05[0], y_05[0]):\n",
    "    print(f\"{u: .2f} -- {v: .2f}\")"
   ]
  },
  {
   "cell_type": "markdown",
   "metadata": {},
   "source": [
    "# Test 6: $\\frac{10}{1 + X_2}$"
   ]
  },
  {
   "cell_type": "markdown",
   "metadata": {},
   "source": [
    "## Creation of the neural network"
   ]
  },
  {
   "cell_type": "code",
   "execution_count": null,
   "metadata": {},
   "outputs": [],
   "source": [
    "neurons_per_layer_06 = [1, 10, 1]\n",
    "lr_06 = 0.002\n",
    "\n",
    "nn_06 = Neural_Network(neurons_per_layer_06, lr_06)"
   ]
  },
  {
   "cell_type": "markdown",
   "metadata": {},
   "source": [
    "## Training"
   ]
  },
  {
   "cell_type": "code",
   "execution_count": null,
   "metadata": {},
   "outputs": [],
   "source": [
    "cost_list_06 = nn_06.fit(X2_train, Y6_train, X2_test, Y6_test, 100, batch_size=10)\n",
    "\n",
    "print_cost(cost_list_06)\n",
    "print_cost_log(cost_list_06)\n"
   ]
  },
  {
   "cell_type": "markdown",
   "metadata": {},
   "source": [
    "## Show results"
   ]
  },
  {
   "cell_type": "code",
   "execution_count": null,
   "metadata": {},
   "outputs": [],
   "source": [
    "Y_test_pred_06 = nn_06.predict(X2_test)\n",
    "\n",
    "print_regression(X2_train, Y6_train, X2_test, Y6_test, Y_test_pred_06)"
   ]
  },
  {
   "cell_type": "markdown",
   "metadata": {},
   "source": [
    "## Manual tests"
   ]
  },
  {
   "cell_type": "code",
   "execution_count": null,
   "metadata": {},
   "outputs": [],
   "source": []
  },
  {
   "cell_type": "markdown",
   "metadata": {},
   "source": [
    "# Test 7: $\\left(X_1 - \\frac{1}{2}\\right)^2 + \\left(X_2 - \\frac{1}{2}\\right)^2 \\leq \\frac{1}{9}$"
   ]
  },
  {
   "cell_type": "markdown",
   "metadata": {},
   "source": [
    "## Creation of the neural network"
   ]
  },
  {
   "cell_type": "code",
   "execution_count": null,
   "metadata": {},
   "outputs": [],
   "source": [
    "neurons_per_layer_07 = [2, 10, 1]\n",
    "lr_07 = 0.01\n",
    "\n",
    "nn_07 = Neural_Network(neurons_per_layer_07, lr_07)"
   ]
  },
  {
   "cell_type": "markdown",
   "metadata": {},
   "source": [
    "## Training"
   ]
  },
  {
   "cell_type": "code",
   "execution_count": null,
   "metadata": {},
   "outputs": [],
   "source": [
    "cost_list_07 = nn_07.fit(X1X2_train, Y7_train, X1X2_test, Y7_test, 100, batch_size=10)\n",
    "\n",
    "print_cost(cost_list_07)\n",
    "print_cost_log(cost_list_07)\n"
   ]
  },
  {
   "cell_type": "markdown",
   "metadata": {},
   "source": [
    "## Show results"
   ]
  },
  {
   "cell_type": "code",
   "execution_count": null,
   "metadata": {},
   "outputs": [],
   "source": [
    "Y_test_pred_07 = nn_07.predict(X1X2_test)"
   ]
  },
  {
   "cell_type": "code",
   "execution_count": null,
   "metadata": {},
   "outputs": [],
   "source": [
    "print_classification(X1X2_train, Y7_train, X1X2_test, Y7_test, Y_test_pred_07, 0.5)"
   ]
  },
  {
   "cell_type": "markdown",
   "metadata": {},
   "source": [
    "## Manual tests"
   ]
  },
  {
   "cell_type": "code",
   "execution_count": null,
   "metadata": {},
   "outputs": [],
   "source": [
    "x_07 = np.array([[0,   0.3, 0.4, 0.7, 0.8],\n",
    "                [0.1, 0.2, 0.5, 0.6, 0.9]])\n",
    "\n",
    "y_p_07 = nn_07.predict(x_07)\n",
    "y_07 = (x_07[0]-1/2)*(x_07[0]-1/2) + (x_07[1]-1/2)*(x_07[1]-1/2) <= 1/9\n",
    "\n",
    "for y in y_p_07[0]:\n",
    "    print(f\"{y: .2f}\", end = \" \")\n",
    "print()\n",
    "for y in y_p_07[0]:\n",
    "    print(f\"{y >= 0.5}\", end = \" \")\n",
    "print()\n",
    "for y in y_07:\n",
    "    print(f\"{y}\", end = \" \")"
   ]
  },
  {
   "cell_type": "code",
   "execution_count": null,
   "metadata": {},
   "outputs": [],
   "source": [
    "#neurons_per_layer_03 = [1, 2, 2, 1]\n",
    "#lr_03 = 0.0005\n",
    "\n",
    "#nn_03 = Neural_Network(neurons_per_layer_03, lr_03)\n",
    "\n",
    "\n",
    "#cost_list_03 = nn_03.fit(X1_train, Y3_train, X1_test, Y3_test, 10)\n",
    "\n",
    "#print_cost(cost_list_03)\n",
    "#print_cost_log(cost_list_03)\n",
    "\n",
    "\n",
    "#Y_test_pred_03 = nn_03.predict(X1_test)\n",
    "\n",
    "#print_regression(X1_train, Y3_train, X1_test, Y3_test, Y_test_pred_03, nn_03)\n",
    "\n",
    "\n",
    "#x_03 = np.array([[0, 0.1, 0.2, 0.3, 0.4, 0.5, 0.6, 0.7, 0.8, 0.9, 1]])\n",
    "#y_p_03 = nn_03.predict(x_03)\n",
    "#y_03 = 100*x_03*x_03\n",
    "\n",
    "\n",
    "#for u, v in zip(y_p_03[0], y_03[0]):\n",
    "#    print(f\"{u: .2f} -- {int(v)}\")"
   ]
  }
 ],
 "metadata": {
  "kernelspec": {
   "display_name": "Python 3 (ipykernel)",
   "language": "python",
   "name": "python3"
  },
  "language_info": {
   "codemirror_mode": {
    "name": "ipython",
    "version": 3
   },
   "file_extension": ".py",
   "mimetype": "text/x-python",
   "name": "python",
   "nbconvert_exporter": "python",
   "pygments_lexer": "ipython3",
   "version": "3.9.12"
  },
  "vscode": {
   "interpreter": {
    "hash": "c8838089fe8c483d31338473a3850a7eaa617e5492d0cdb9fdf5dbb234df1360"
   }
  }
 },
 "nbformat": 4,
 "nbformat_minor": 2
}
