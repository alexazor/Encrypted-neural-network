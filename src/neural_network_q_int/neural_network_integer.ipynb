{
  "cells": [
    {
      "cell_type": "markdown",
      "metadata": {},
      "source": [
        "# Initialisation"
      ]
    },
    {
      "cell_type": "markdown",
      "metadata": {},
      "source": [
        "## Import libraries and modules"
      ]
    },
    {
      "cell_type": "code",
      "execution_count": 1,
      "metadata": {},
      "outputs": [],
      "source": [
        "import pandas as pd\n",
        "import numpy as np\n",
        "\n",
        "from neural_network_integer import Neural_Network_Integer\n",
        "from data_visualisation_q_int import *\n",
        "from q_int import Q_int\n",
        "\n",
        "%matplotlib inline"
      ]
    },
    {
      "cell_type": "markdown",
      "metadata": {},
      "source": [
        "## Import data"
      ]
    },
    {
      "cell_type": "code",
      "execution_count": 2,
      "metadata": {},
      "outputs": [
        {
          "data": {
            "text/html": [
              "<div>\n",
              "<style scoped>\n",
              "    .dataframe tbody tr th:only-of-type {\n",
              "        vertical-align: middle;\n",
              "    }\n",
              "\n",
              "    .dataframe tbody tr th {\n",
              "        vertical-align: top;\n",
              "    }\n",
              "\n",
              "    .dataframe thead th {\n",
              "        text-align: right;\n",
              "    }\n",
              "</style>\n",
              "<table border=\"1\" class=\"dataframe\">\n",
              "  <thead>\n",
              "    <tr style=\"text-align: right;\">\n",
              "      <th></th>\n",
              "      <th>X1</th>\n",
              "      <th>X2</th>\n",
              "      <th>Y1</th>\n",
              "      <th>Y2</th>\n",
              "      <th>Y3</th>\n",
              "      <th>Y4</th>\n",
              "      <th>Y5</th>\n",
              "      <th>Y6</th>\n",
              "      <th>Y7</th>\n",
              "    </tr>\n",
              "  </thead>\n",
              "  <tbody>\n",
              "    <tr>\n",
              "      <th>count</th>\n",
              "      <td>1000.000000</td>\n",
              "      <td>1000.000000</td>\n",
              "      <td>1000.000000</td>\n",
              "      <td>1000.000000</td>\n",
              "      <td>1000.000000</td>\n",
              "      <td>1000.000000</td>\n",
              "      <td>1.000000e+03</td>\n",
              "      <td>1000.000000</td>\n",
              "      <td>1000.000000</td>\n",
              "    </tr>\n",
              "    <tr>\n",
              "      <th>mean</th>\n",
              "      <td>0.494500</td>\n",
              "      <td>0.503874</td>\n",
              "      <td>3.433374</td>\n",
              "      <td>0.497000</td>\n",
              "      <td>32.899558</td>\n",
              "      <td>0.776799</td>\n",
              "      <td>1.011638e+00</td>\n",
              "      <td>6.913241</td>\n",
              "      <td>0.352000</td>\n",
              "    </tr>\n",
              "    <tr>\n",
              "      <th>std</th>\n",
              "      <td>0.290775</td>\n",
              "      <td>0.289215</td>\n",
              "      <td>3.013086</td>\n",
              "      <td>0.500241</td>\n",
              "      <td>29.891080</td>\n",
              "      <td>2.314363</td>\n",
              "      <td>7.194533e-01</td>\n",
              "      <td>1.395570</td>\n",
              "      <td>0.477833</td>\n",
              "    </tr>\n",
              "    <tr>\n",
              "      <th>min</th>\n",
              "      <td>0.000901</td>\n",
              "      <td>0.002165</td>\n",
              "      <td>-2.868126</td>\n",
              "      <td>0.000000</td>\n",
              "      <td>0.000081</td>\n",
              "      <td>-2.476609</td>\n",
              "      <td>4.532358e-07</td>\n",
              "      <td>5.000514</td>\n",
              "      <td>0.000000</td>\n",
              "    </tr>\n",
              "    <tr>\n",
              "      <th>25%</th>\n",
              "      <td>0.232750</td>\n",
              "      <td>0.250384</td>\n",
              "      <td>0.930232</td>\n",
              "      <td>0.000000</td>\n",
              "      <td>5.417267</td>\n",
              "      <td>-0.717698</td>\n",
              "      <td>2.887074e-01</td>\n",
              "      <td>5.744422</td>\n",
              "      <td>0.000000</td>\n",
              "    </tr>\n",
              "    <tr>\n",
              "      <th>50%</th>\n",
              "      <td>0.499786</td>\n",
              "      <td>0.508934</td>\n",
              "      <td>3.453904</td>\n",
              "      <td>0.000000</td>\n",
              "      <td>24.978599</td>\n",
              "      <td>-0.005678</td>\n",
              "      <td>1.001346e+00</td>\n",
              "      <td>6.627194</td>\n",
              "      <td>0.000000</td>\n",
              "    </tr>\n",
              "    <tr>\n",
              "      <th>75%</th>\n",
              "      <td>0.747059</td>\n",
              "      <td>0.740819</td>\n",
              "      <td>5.819886</td>\n",
              "      <td>1.000000</td>\n",
              "      <td>55.809771</td>\n",
              "      <td>1.705797</td>\n",
              "      <td>1.736948e+00</td>\n",
              "      <td>7.997545</td>\n",
              "      <td>1.000000</td>\n",
              "    </tr>\n",
              "    <tr>\n",
              "      <th>max</th>\n",
              "      <td>0.999476</td>\n",
              "      <td>0.999794</td>\n",
              "      <td>9.768018</td>\n",
              "      <td>1.000000</td>\n",
              "      <td>99.895286</td>\n",
              "      <td>9.427286</td>\n",
              "      <td>1.999998e+00</td>\n",
              "      <td>9.978397</td>\n",
              "      <td>1.000000</td>\n",
              "    </tr>\n",
              "  </tbody>\n",
              "</table>\n",
              "</div>"
            ],
            "text/plain": [
              "                X1           X2           Y1           Y2           Y3  \\\n",
              "count  1000.000000  1000.000000  1000.000000  1000.000000  1000.000000   \n",
              "mean      0.494500     0.503874     3.433374     0.497000    32.899558   \n",
              "std       0.290775     0.289215     3.013086     0.500241    29.891080   \n",
              "min       0.000901     0.002165    -2.868126     0.000000     0.000081   \n",
              "25%       0.232750     0.250384     0.930232     0.000000     5.417267   \n",
              "50%       0.499786     0.508934     3.453904     0.000000    24.978599   \n",
              "75%       0.747059     0.740819     5.819886     1.000000    55.809771   \n",
              "max       0.999476     0.999794     9.768018     1.000000    99.895286   \n",
              "\n",
              "                Y4            Y5           Y6           Y7  \n",
              "count  1000.000000  1.000000e+03  1000.000000  1000.000000  \n",
              "mean      0.776799  1.011638e+00     6.913241     0.352000  \n",
              "std       2.314363  7.194533e-01     1.395570     0.477833  \n",
              "min      -2.476609  4.532358e-07     5.000514     0.000000  \n",
              "25%      -0.717698  2.887074e-01     5.744422     0.000000  \n",
              "50%      -0.005678  1.001346e+00     6.627194     0.000000  \n",
              "75%       1.705797  1.736948e+00     7.997545     1.000000  \n",
              "max       9.427286  1.999998e+00     9.978397     1.000000  "
            ]
          },
          "execution_count": 2,
          "metadata": {},
          "output_type": "execute_result"
        }
      ],
      "source": [
        "data_set = pd.read_excel(\"../data/data-1000.xlsx\")\n",
        "data_set.describe()\n"
      ]
    },
    {
      "cell_type": "markdown",
      "metadata": {},
      "source": [
        "## Extracting the useful data"
      ]
    },
    {
      "cell_type": "code",
      "execution_count": 3,
      "metadata": {},
      "outputs": [],
      "source": [
        "def extract_features(data_set, *argv):\n",
        "    features_names = []\n",
        "    for feature in argv:\n",
        "        features_names.append(feature)\n",
        "        \n",
        "    features_df = data_set[features_names]\n",
        "    features_matrix = features_df.to_numpy()\n",
        "    features_matrix = np.transpose(features_matrix)\n",
        "    \n",
        "    total_set_size = features_matrix.shape[1]\n",
        "    train_set_size = int(0.8*total_set_size)\n",
        "    \n",
        "    features_train = features_matrix[:, :train_set_size]\n",
        "    features_test = features_matrix[:, train_set_size:]\n",
        "    \n",
        "    return features_train, features_test"
      ]
    },
    {
      "cell_type": "code",
      "execution_count": 4,
      "metadata": {},
      "outputs": [],
      "source": [
        "X1_train, X1_test = extract_features(data_set, \"X1\")\n",
        "X2_train, X2_test = extract_features(data_set, \"X2\")\n",
        "X1X2_train, X1X2_test = extract_features(data_set, \"X1\", \"X2\")\n",
        "\n",
        "Y1_train, Y1_test = extract_features(data_set, \"Y1\")\n",
        "Y2_train, Y2_test = extract_features(data_set, \"Y2\")\n",
        "Y3_train, Y3_test = extract_features(data_set, \"Y3\")\n",
        "Y4_train, Y4_test = extract_features(data_set, \"Y4\")\n",
        "Y5_train, Y5_test = extract_features(data_set, \"Y5\")\n",
        "Y6_train, Y6_test = extract_features(data_set, \"Y6\")\n",
        "Y7_train, Y7_test = extract_features(data_set, \"Y7\")"
      ]
    },
    {
      "cell_type": "code",
      "execution_count": 5,
      "metadata": {},
      "outputs": [],
      "source": [
        "q_factor = 10**4\n",
        "\n",
        "X1_train_q_int = Q_int.convert_matrix(X1_train, q_factor)\n",
        "X1_test_q_int = Q_int.convert_matrix(X1_test, q_factor)\n",
        "\n",
        "X2_train_q_int = Q_int.convert_matrix(X2_train, q_factor)\n",
        "X2_test_q_int = Q_int.convert_matrix(X2_test, q_factor)\n",
        "\n",
        "X1X2_train_q_int = Q_int.convert_matrix(X1X2_train, q_factor) \n",
        "X1X2_test_q_int = Q_int.convert_matrix(X1X2_test, q_factor)\n",
        "\n",
        "Y1_train_q_int = Q_int.convert_matrix(Y1_train, q_factor)\n",
        "Y1_test_q_int = Q_int.convert_matrix(Y1_test, q_factor)\n",
        "\n",
        "Y2_train_q_int = Q_int.convert_matrix(Y2_train, q_factor)\n",
        "Y2_test_q_int = Q_int.convert_matrix(Y2_test, q_factor)\n",
        "\n",
        "Y3_train_q_int = Q_int.convert_matrix(Y3_train, q_factor)\n",
        "Y3_test_q_int = Q_int.convert_matrix(Y3_test, q_factor)\n",
        "\n",
        "Y4_train_q_int = Q_int.convert_matrix(Y4_train, q_factor)\n",
        "Y4_test_q_int = Q_int.convert_matrix(Y4_test, q_factor)\n",
        "\n",
        "Y5_train_q_int = Q_int.convert_matrix(Y5_train, q_factor)\n",
        "Y5_test_q_int = Q_int.convert_matrix(Y5_test, q_factor)\n",
        "\n",
        "Y6_train_q_int = Q_int.convert_matrix(Y6_train, q_factor)\n",
        "Y6_test_q_int = Q_int.convert_matrix(Y6_test, q_factor)\n",
        "\n",
        "Y7_train_q_int = Q_int.convert_matrix(Y7_train, q_factor)\n",
        "Y7_test_q_int = Q_int.convert_matrix(Y7_test, q_factor)\n"
      ]
    },
    {
      "cell_type": "markdown",
      "metadata": {},
      "source": [
        "# Test 0: Identity function"
      ]
    },
    {
      "cell_type": "markdown",
      "metadata": {},
      "source": [
        "## Creating the neural network"
      ]
    },
    {
      "cell_type": "code",
      "execution_count": 6,
      "metadata": {},
      "outputs": [],
      "source": [
        "neurons_per_layer_00 = [1, 1]\n",
        "lr_00 = 0.02\n",
        "\n",
        "nn_q_int_00 = Neural_Network_Integer(q_factor, neurons_per_layer_00, lr_00)"
      ]
    },
    {
      "cell_type": "markdown",
      "metadata": {},
      "source": [
        "## Training"
      ]
    },
    {
      "cell_type": "code",
      "execution_count": 7,
      "metadata": {},
      "outputs": [
        {
          "name": "stdout",
          "output_type": "stream",
          "text": [
            "Progression: 10%\n",
            "Progression: 20%\n",
            "Progression: 30%\n",
            "Progression: 40%\n",
            "Progression: 50%\n",
            "Progression: 60%\n",
            "Progression: 70%\n",
            "Progression: 80%\n",
            "Progression: 90%\n",
            "Progression: 100%\n"
          ]
        },
        {
          "data": {
            "image/png": "[encoded data removed]",
            "text/plain": [
              "<Figure size 432x288 with 1 Axes>"
            ]
          },
          "metadata": {
            "needs_background": "light"
          },
          "output_type": "display_data"
        },
        {
          "data": {
            "image/png": "[encoded data removed]",
            "text/plain": [
              "<Figure size 432x288 with 1 Axes>"
            ]
          },
          "metadata": {
            "needs_background": "light"
          },
          "output_type": "display_data"
        }
      ],
      "source": [
        "cost_list_q_int_00 = nn_q_int_00.fit(X1_train_q_int, X1_train_q_int,\n",
        "                         X1_test_q_int, X1_test_q_int, 10, batch_size=10)\n",
        "\n",
        "print_cost_q_int(cost_list_q_int_00)\n",
        "print_cost_log_q_int(cost_list_q_int_00)"
      ]
    },
    {
      "cell_type": "markdown",
      "metadata": {},
      "source": [
        "## Show result"
      ]
    },
    {
      "cell_type": "code",
      "execution_count": 8,
      "metadata": {},
      "outputs": [
        {
          "data": {
            "image/png": "[encoded data removed]",
            "text/plain": [
              "<Figure size 432x288 with 1 Axes>"
            ]
          },
          "metadata": {
            "needs_background": "light"
          },
          "output_type": "display_data"
        },
        {
          "data": {
            "image/png": "[encoded data removed]",
            "text/plain": [
              "<Figure size 432x288 with 1 Axes>"
            ]
          },
          "metadata": {
            "needs_background": "light"
          },
          "output_type": "display_data"
        }
      ],
      "source": [
        "Y_test_pred_q_int_00 = nn_q_int_00.predict(X1_test)\n",
        "\n",
        "print_regression_q_int(X1_train, X1_train, X1_test, X1_test, Y_test_pred_q_int_00)"
      ]
    },
    {
      "cell_type": "markdown",
      "metadata": {},
      "source": [
        "## Indivual tests"
      ]
    },
    {
      "cell_type": "code",
      "execution_count": 9,
      "metadata": {},
      "outputs": [
        {
          "name": "stdout",
          "output_type": "stream",
          "text": [
            " 0.17   0.26   0.34   0.43   0.51  "
          ]
        }
      ],
      "source": [
        "x_00 = Q_int.convert_matrix(np.array([[0.1, 0.2, 0.3, 0.4, 0.5]]), q_factor)\n",
        "y_p_00 = nn_q_int_00.predict(x_00)\n",
        "\n",
        "for i in range(len(x_00[0])):\n",
        "    print(f\"{y_p_00[0][i]: .2f}\", end=\"  \")"
      ]
    },
    {
      "cell_type": "markdown",
      "metadata": {},
      "source": [
        "# Test 1: $10X_1 - 3X_2$"
      ]
    },
    {
      "cell_type": "markdown",
      "metadata": {},
      "source": [
        "## Creating the neural network"
      ]
    },
    {
      "cell_type": "code",
      "execution_count": 10,
      "metadata": {},
      "outputs": [],
      "source": [
        "neurons_per_layer_01 = [2, 2, 1]\n",
        "lr_01 = 0.01\n",
        "\n",
        "nn_q_int_01 = Neural_Network_Integer(q_factor, neurons_per_layer_01, lr_01)"
      ]
    },
    {
      "cell_type": "markdown",
      "metadata": {},
      "source": [
        "## Training"
      ]
    },
    {
      "cell_type": "code",
      "execution_count": 11,
      "metadata": {},
      "outputs": [
        {
          "name": "stdout",
          "output_type": "stream",
          "text": [
            "Progression: 10%\n",
            "Progression: 20%\n",
            "Progression: 30%\n",
            "Progression: 40%\n",
            "Progression: 50%\n",
            "Progression: 60%\n",
            "Progression: 70%\n",
            "Progression: 80%\n",
            "Progression: 90%\n",
            "Progression: 100%\n"
          ]
        },
        {
          "data": {
            "image/png": "[encoded data removed]",
            "text/plain": [
              "<Figure size 432x288 with 1 Axes>"
            ]
          },
          "metadata": {
            "needs_background": "light"
          },
          "output_type": "display_data"
        },
        {
          "data": {
            "image/png": "[encoded data removed]",
            "text/plain": [
              "<Figure size 432x288 with 1 Axes>"
            ]
          },
          "metadata": {
            "needs_background": "light"
          },
          "output_type": "display_data"
        }
      ],
      "source": [
        "cost_list_q_int_01 = nn_q_int_01.fit(\n",
        "    X1X2_train_q_int, Y1_train_q_int, X1X2_test_q_int, Y1_test_q_int, 5, batch_size=10)\n",
        "\n",
        "print_cost_q_int(cost_list_q_int_01)\n",
        "print_cost_log_q_int(cost_list_q_int_01)\n"
      ]
    },
    {
      "cell_type": "markdown",
      "metadata": {},
      "source": [
        "## Show results"
      ]
    },
    {
      "cell_type": "code",
      "execution_count": 12,
      "metadata": {},
      "outputs": [],
      "source": [
        "Y_test_pred_q_int_01 = nn_q_int_01.predict(X1X2_test)"
      ]
    },
    {
      "cell_type": "code",
      "execution_count": 13,
      "metadata": {},
      "outputs": [
        {
          "data": {
            "image/png": "[encoded data removed]",
            "text/plain": [
              "<Figure size 432x288 with 1 Axes>"
            ]
          },
          "metadata": {
            "needs_background": "light"
          },
          "output_type": "display_data"
        },
        {
          "data": {
            "image/png": "[encoded data removed]",
            "text/plain": [
              "<Figure size 432x288 with 1 Axes>"
            ]
          },
          "metadata": {
            "needs_background": "light"
          },
          "output_type": "display_data"
        }
      ],
      "source": [
        "print_classification_q_int(X1X2_train, Y1_train, X1X2_test, Y1_test, Y_test_pred_q_int_01, 2)"
      ]
    },
    {
      "cell_type": "markdown",
      "metadata": {},
      "source": [
        "## Manual tests"
      ]
    },
    {
      "cell_type": "code",
      "execution_count": 16,
      "metadata": {},
      "outputs": [
        {
          "name": "stdout",
          "output_type": "stream",
          "text": [
            " 0.40  3.10  3.20  5.90 \n",
            " 0.40  3.10  3.20  5.90 "
          ]
        }
      ],
      "source": [
        "x_01 = Q_int.convert_matrix(np.array([[0.1, 0.4, 0.5, 0.8], \n",
        "              [0.2, 0.3, 0.6, 0.7]]), q_factor)\n",
        "y_p_01 = nn_q_int_01.predict(x_01)\n",
        "y_01 = 10*x_01[0] - 3*x_01[1]\n",
        "\n",
        "for y in y_p_01[0]:\n",
        "    print(f\"{y: .2f}\", end = \" \")\n",
        "print()\n",
        "for y in y_01:\n",
        "    print(f\"{y: .2f}\", end = \" \")"
      ]
    },
    {
      "cell_type": "markdown",
      "metadata": {},
      "source": [
        "# Test 2: $X_1 \\geq X_2$"
      ]
    },
    {
      "cell_type": "markdown",
      "metadata": {},
      "source": [
        "## Creating the neural network"
      ]
    },
    {
      "cell_type": "code",
      "execution_count": 48,
      "metadata": {},
      "outputs": [],
      "source": [
        "neurons_per_layer_02 = [2, 10, 1]\n",
        "lr_02 = 0.005\n",
        "\n",
        "nn_q_int_02 = Neural_Network_Integer(q_factor, neurons_per_layer_02, lr_02)"
      ]
    },
    {
      "cell_type": "markdown",
      "metadata": {},
      "source": [
        "## Training"
      ]
    },
    {
      "cell_type": "code",
      "execution_count": 49,
      "metadata": {},
      "outputs": [
        {
          "ename": "ZeroDivisionError",
          "evalue": "division or modulo by zero",
          "output_type": "error",
          "traceback": [
            "\u001b[1;31m---------------------------------------------------------------------------\u001b[0m",
            "\u001b[1;31mZeroDivisionError\u001b[0m                         Traceback (most recent call last)",
            "\u001b[1;32md:\\Projets\\Git-Programmation\\Projets_perso\\Encrypted-neural-network\\src\\neural_network_integer.ipynb Cellule 33\u001b[0m in \u001b[0;36m<cell line: 1>\u001b[1;34m()\u001b[0m\n\u001b[1;32m----> <a href='vscode-notebook-cell:/d%3A/Projets/Git-Programmation/Projets_perso/Encrypted-neural-network/src/neural_network_integer.ipynb#X44sZmlsZQ%3D%3D?line=0'>1</a>\u001b[0m cost_list_q_int_02 \u001b[39m=\u001b[39m nn_q_int_02\u001b[39m.\u001b[39;49mfit(X1X2_train, Y2_train, X1X2_test, Y2_test, \u001b[39m4\u001b[39;49m, batch_size\u001b[39m=\u001b[39;49m\u001b[39m10\u001b[39;49m)\n\u001b[0;32m      <a href='vscode-notebook-cell:/d%3A/Projets/Git-Programmation/Projets_perso/Encrypted-neural-network/src/neural_network_integer.ipynb#X44sZmlsZQ%3D%3D?line=2'>3</a>\u001b[0m print_cost_q_int(cost_list_q_int_02)\n\u001b[0;32m      <a href='vscode-notebook-cell:/d%3A/Projets/Git-Programmation/Projets_perso/Encrypted-neural-network/src/neural_network_integer.ipynb#X44sZmlsZQ%3D%3D?line=3'>4</a>\u001b[0m print_cost_log_q_int(cost_list_q_int_02)\n",
            "File \u001b[1;32md:\\Projets\\Git-Programmation\\Projets_perso\\Encrypted-neural-network\\src\\neural_network_integer.py:312\u001b[0m, in \u001b[0;36mNeural_Network_Integer.fit\u001b[1;34m(self, X_train, Y_train, X_test, Y_test, max_epoch, batch_size, show_progression)\u001b[0m\n\u001b[0;32m    309\u001b[0m progression \u001b[39m=\u001b[39m \u001b[39m10\u001b[39m\n\u001b[0;32m    311\u001b[0m \u001b[39mwhile\u001b[39;00m(num_epoch \u001b[39m<\u001b[39m max_epoch):\n\u001b[1;32m--> 312\u001b[0m     \u001b[39mself\u001b[39;49m\u001b[39m.\u001b[39;49mepoch(X_train, Y_train, batch_size)\n\u001b[0;32m    314\u001b[0m     Y_pred \u001b[39m=\u001b[39m \u001b[39mself\u001b[39m\u001b[39m.\u001b[39mpredict(X_test)\n\u001b[0;32m    315\u001b[0m     cost_list\u001b[39m.\u001b[39mappend(\u001b[39mself\u001b[39m\u001b[39m.\u001b[39mcost(Y_pred, Y_test))\n",
            "File \u001b[1;32md:\\Projets\\Git-Programmation\\Projets_perso\\Encrypted-neural-network\\src\\neural_network_integer.py:271\u001b[0m, in \u001b[0;36mNeural_Network_Integer.epoch\u001b[1;34m(self, A_0, Y, batch_size)\u001b[0m\n\u001b[0;32m    268\u001b[0m     Y_batch \u001b[39m=\u001b[39m Y[:, i\u001b[39m*\u001b[39mbatch_size: (i\u001b[39m+\u001b[39m\u001b[39m1\u001b[39m)\u001b[39m*\u001b[39mbatch_size]\n\u001b[0;32m    270\u001b[0m     \u001b[39mself\u001b[39m\u001b[39m.\u001b[39mpredict(A_0_batch, isTrain\u001b[39m=\u001b[39m\u001b[39mTrue\u001b[39;00m)\n\u001b[1;32m--> 271\u001b[0m     \u001b[39mself\u001b[39;49m\u001b[39m.\u001b[39;49mbackpropagation(Y_batch)\n\u001b[0;32m    273\u001b[0m i \u001b[39m=\u001b[39m train_set_size\u001b[39m/\u001b[39m\u001b[39m/\u001b[39mbatch_size\n\u001b[0;32m    274\u001b[0m A_0_batch \u001b[39m=\u001b[39m A_0[:, i\u001b[39m*\u001b[39mbatch_size:]\n",
            "File \u001b[1;32md:\\Projets\\Git-Programmation\\Projets_perso\\Encrypted-neural-network\\src\\neural_network_integer.py:234\u001b[0m, in \u001b[0;36mNeural_Network_Integer.backpropagation\u001b[1;34m(self, Y)\u001b[0m\n\u001b[0;32m    231\u001b[0m dW_k \u001b[39m=\u001b[39m dL_kPlus1 \u001b[39m@\u001b[39m np\u001b[39m.\u001b[39mtranspose(\u001b[39mself\u001b[39m\u001b[39m.\u001b[39mactivation(Z_k))\n\u001b[0;32m    233\u001b[0m W_k \u001b[39m=\u001b[39m \u001b[39mself\u001b[39m\u001b[39m.\u001b[39mweights_list[k]\n\u001b[1;32m--> 234\u001b[0m dL_kPlus1 \u001b[39m=\u001b[39m \u001b[39mself\u001b[39;49m\u001b[39m.\u001b[39;49mgrad_activation(Z_k)\u001b[39m*\u001b[39m(np\u001b[39m.\u001b[39mtranspose(W_k)\n\u001b[0;32m    235\u001b[0m                                        \u001b[39m@\u001b[39m dL_kPlus1)\n\u001b[0;32m    237\u001b[0m \u001b[39mself\u001b[39m\u001b[39m.\u001b[39mweights_list[k] \u001b[39m-\u001b[39m\u001b[39m=\u001b[39m \u001b[39mself\u001b[39m\u001b[39m.\u001b[39mlr \u001b[39m*\u001b[39m dW_k\n\u001b[0;32m    238\u001b[0m \u001b[39mself\u001b[39m\u001b[39m.\u001b[39mbiais_list[k] \u001b[39m-\u001b[39m\u001b[39m=\u001b[39m \u001b[39mself\u001b[39m\u001b[39m.\u001b[39mlr \u001b[39m*\u001b[39m (dB_k \u001b[39m@\u001b[39m ones_column)\n",
            "File \u001b[1;32md:\\Projets\\Git-Programmation\\Projets_perso\\Encrypted-neural-network\\src\\neural_network_integer.py:111\u001b[0m, in \u001b[0;36mNeural_Network_Integer.grad_activation\u001b[1;34m(self, z)\u001b[0m\n\u001b[0;32m    101\u001b[0m \u001b[39m\"\"\"Gradient of the chosen activation function\u001b[39;00m\n\u001b[0;32m    102\u001b[0m \n\u001b[0;32m    103\u001b[0m \u001b[39mArgs:\u001b[39;00m\n\u001b[1;32m   (...)\u001b[0m\n\u001b[0;32m    107\u001b[0m \u001b[39m    g_a (numpy vector): Derivative of the activation function applied on `z`\u001b[39;00m\n\u001b[0;32m    108\u001b[0m \u001b[39m\"\"\"\u001b[39;00m\n\u001b[0;32m    110\u001b[0m \u001b[39mif\u001b[39;00m(\u001b[39mself\u001b[39m\u001b[39m.\u001b[39mactivation_function_name \u001b[39m==\u001b[39m \u001b[39m\"\u001b[39m\u001b[39mReLU\u001b[39m\u001b[39m\"\u001b[39m):\n\u001b[1;32m--> 111\u001b[0m     g_a \u001b[39m=\u001b[39m (\u001b[39m1\u001b[39m \u001b[39m+\u001b[39m np\u001b[39m.\u001b[39;49mabs(z)\u001b[39m/\u001b[39;49mz)\u001b[39m/\u001b[39m\u001b[39m2\u001b[39m\n\u001b[0;32m    112\u001b[0m     \u001b[39mreturn\u001b[39;00m g_a\n\u001b[0;32m    113\u001b[0m \u001b[39melse\u001b[39;00m:\n",
            "File \u001b[1;32md:\\Projets\\Git-Programmation\\Projets_perso\\Encrypted-neural-network\\src\\q_int.py:98\u001b[0m, in \u001b[0;36mQ_int.__truediv__\u001b[1;34m(self, other)\u001b[0m\n\u001b[0;32m     97\u001b[0m \u001b[39mdef\u001b[39;00m \u001b[39m__truediv__\u001b[39m(\u001b[39mself\u001b[39m, other):\n\u001b[1;32m---> 98\u001b[0m     \u001b[39mreturn\u001b[39;00m \u001b[39mself\u001b[39;49m\u001b[39m.\u001b[39;49m\u001b[39m__floordiv__\u001b[39;49m(other)\n",
            "File \u001b[1;32md:\\Projets\\Git-Programmation\\Projets_perso\\Encrypted-neural-network\\src\\q_int.py:73\u001b[0m, in \u001b[0;36mQ_int.__floordiv__\u001b[1;34m(self, other)\u001b[0m\n\u001b[0;32m     71\u001b[0m \u001b[39mdef\u001b[39;00m \u001b[39m__floordiv__\u001b[39m(\u001b[39mself\u001b[39m, other):\n\u001b[0;32m     72\u001b[0m     \u001b[39mif\u001b[39;00m \u001b[39misinstance\u001b[39m(other, \u001b[39mself\u001b[39m\u001b[39m.\u001b[39m\u001b[39m__class__\u001b[39m):\n\u001b[1;32m---> 73\u001b[0m         \u001b[39mreturn\u001b[39;00m Q_int(mpz(\u001b[39mself\u001b[39;49m\u001b[39m.\u001b[39;49mq\u001b[39m*\u001b[39;49m\u001b[39mself\u001b[39;49m\u001b[39m.\u001b[39;49mval \u001b[39m/\u001b[39;49m other\u001b[39m.\u001b[39;49mval), \u001b[39mself\u001b[39m\u001b[39m.\u001b[39mq)\n\u001b[0;32m     74\u001b[0m     \u001b[39melif\u001b[39;00m (\u001b[39misinstance\u001b[39m(other, mpz)):\n\u001b[0;32m     75\u001b[0m         \u001b[39mreturn\u001b[39;00m Q_int(mpz(\u001b[39mself\u001b[39m\u001b[39m.\u001b[39mq\u001b[39m*\u001b[39m\u001b[39mself\u001b[39m\u001b[39m.\u001b[39mval \u001b[39m/\u001b[39m other), \u001b[39mself\u001b[39m\u001b[39m.\u001b[39mq)\n",
            "\u001b[1;31mZeroDivisionError\u001b[0m: division or modulo by zero"
          ]
        }
      ],
      "source": [
        "cost_list_q_int_02 = nn_q_int_02.fit(X1X2_train, Y2_train, X1X2_test, Y2_test, 4, batch_size=10)\n",
        "\n",
        "print_cost_q_int(cost_list_q_int_02)\n",
        "print_cost_log_q_int(cost_list_q_int_02)\n"
      ]
    },
    {
      "cell_type": "code",
      "execution_count": null,
      "metadata": {},
      "outputs": [],
      "source": [
        "Y_test_pred_q_int_02 = nn_q_int_02.predict(X1X2_test)"
      ]
    },
    {
      "cell_type": "code",
      "execution_count": null,
      "metadata": {},
      "outputs": [
        {
          "data": {
            "image/png": "[encoded data removed]",
            "text/plain": [
              "<Figure size 432x288 with 1 Axes>"
            ]
          },
          "metadata": {
            "needs_background": "light"
          },
          "output_type": "display_data"
        },
        {
          "data": {
            "image/png": "[encoded data removed]",
            "text/plain": [
              "<Figure size 432x288 with 1 Axes>"
            ]
          },
          "metadata": {
            "needs_background": "light"
          },
          "output_type": "display_data"
        }
      ],
      "source": [
        "print_classification_q_int(\n",
        "    X1X2_train, Y2_train, X1X2_test, Y2_test, Y_test_pred_q_int_02, 0.5)"
      ]
    },
    {
      "cell_type": "markdown",
      "metadata": {},
      "source": [
        "## Manual tests"
      ]
    },
    {
      "cell_type": "code",
      "execution_count": 39,
      "metadata": {},
      "outputs": [
        {
          "name": "stdout",
          "output_type": "stream",
          "text": [
            " 0.39  0.79  0.44  0.57  0.62  0.79 -0.47 \n",
            "False True False True True True False \n",
            "False True False True True True False "
          ]
        }
      ],
      "source": [
        "x_02 = Q_int.convert_matrix(np.array([[0.1, 0.4, 0.5, 0.8, 0.505, 0.9, 0.1], \n",
        "                 [0.2, 0.3, 0.6, 0.7, 0.5, 0.1, 0.9]]), q_factor)\n",
        "y_p_02 = nn_q_int_02.predict(x_02)\n",
        "y_02 = np.array([x_02[0][i].val >= x_02[1][i].val for i in range(len(x_02[0]))])\n",
        "\n",
        "for p in y_p_02[0]:\n",
        "    print(f\"{p: .2f}\", end=\" \")\n",
        "\n",
        "print()\n",
        "\n",
        "for p in y_p_02[0]:\n",
        "    print(p.val >= 0.5*q_factor, end=\" \")\n",
        "\n",
        "print()\n",
        "\n",
        "for r in y_02:\n",
        "    print(r, end=\" \")\n"
      ]
    },
    {
      "cell_type": "markdown",
      "metadata": {},
      "source": [
        "# Test 3: $100*(X_1)^2$"
      ]
    },
    {
      "cell_type": "markdown",
      "metadata": {},
      "source": [
        "## Creating the neural network"
      ]
    },
    {
      "cell_type": "code",
      "execution_count": null,
      "metadata": {},
      "outputs": [],
      "source": [
        "neurons_per_layer_03 = [1, 10, 1]\n",
        "lr_03 = 0.005\n",
        "\n",
        "nn_q_int_03 = Neural_Network_Integer(q_factor, neurons_per_layer_03, lr_03)"
      ]
    },
    {
      "cell_type": "markdown",
      "metadata": {},
      "source": [
        "## Training"
      ]
    },
    {
      "cell_type": "code",
      "execution_count": null,
      "metadata": {},
      "outputs": [],
      "source": [
        "cost_list_q_int_03 = nn_q_int_03.fit(X1_train, Y3_train, X1_test, Y3_test, 100, batch_size=10)\n",
        "\n",
        "print_cost_q_int(cost_list_q_int_03)\n",
        "print_cost_log_q_int(cost_list_q_int_03)\n"
      ]
    },
    {
      "cell_type": "markdown",
      "metadata": {},
      "source": [
        "## Show results"
      ]
    },
    {
      "cell_type": "code",
      "execution_count": null,
      "metadata": {},
      "outputs": [],
      "source": [
        "Y_test_pred_q_int_03 = nn_q_int_03.predict(X1_test)\n",
        "\n",
        "print_regression_q_int(X1_train, Y3_train, X1_test,\n",
        "                       Y3_test, Y_test_pred_q_int_03)\n"
      ]
    },
    {
      "cell_type": "markdown",
      "metadata": {},
      "source": [
        "## Manual tests"
      ]
    },
    {
      "cell_type": "code",
      "execution_count": null,
      "metadata": {},
      "outputs": [],
      "source": [
        "x_03 = Q_int.convert_matrix(np.array([[0, 0.1, 0.2, 0.3, 0.4, 0.5, 0.6, 0.7, 0.8, 0.9, 1]]), q_factor)\n",
        "y_p_03 = nn_q_int_03.predict(x_03)\n",
        "y_03 = 100*x_03*x_03\n",
        "\n",
        "\n",
        "for u, v in zip(y_p_03[0], y_03[0]):\n",
        "    print(f\"{u: .2f} -- {int(v)}\")"
      ]
    },
    {
      "cell_type": "markdown",
      "metadata": {},
      "source": [
        "# Test 4: $10*X_1(X_1 - X_2)$"
      ]
    },
    {
      "cell_type": "markdown",
      "metadata": {},
      "source": [
        "## Creation of the neural network"
      ]
    },
    {
      "cell_type": "code",
      "execution_count": null,
      "metadata": {},
      "outputs": [],
      "source": [
        "neurons_per_layer_04 = [2, 10, 1]\n",
        "lr_04 = 0.01\n",
        "\n",
        "nn_q_int_04 = Neural_Network_Integer(q_factor, neurons_per_layer_04, lr_04)"
      ]
    },
    {
      "cell_type": "markdown",
      "metadata": {},
      "source": [
        "## Training"
      ]
    },
    {
      "cell_type": "code",
      "execution_count": null,
      "metadata": {},
      "outputs": [],
      "source": [
        "cost_list_04 = nn_q_int_04.fit(X1X2_train, Y4_train, X1X2_test, Y4_test, 100, batch_size=10)\n",
        "\n",
        "print_cost_q_int(cost_list_04)\n",
        "print_cost_log_q_int(cost_list_04)"
      ]
    },
    {
      "cell_type": "code",
      "execution_count": null,
      "metadata": {},
      "outputs": [],
      "source": [
        "print(cost_list_04[-1])\n",
        "print(np.log10(cost_list_04[-1]))"
      ]
    },
    {
      "cell_type": "markdown",
      "metadata": {},
      "source": [
        "## Show results"
      ]
    },
    {
      "cell_type": "code",
      "execution_count": null,
      "metadata": {},
      "outputs": [],
      "source": [
        "Y_test_pred_04 = nn_q_int_04.predict(X1X2_test)"
      ]
    },
    {
      "cell_type": "code",
      "execution_count": null,
      "metadata": {},
      "outputs": [],
      "source": [
        "print_classification_q_int(X1X2_train, Y4_train, X1X2_test, Y4_test, Y_test_pred_04, 1)"
      ]
    },
    {
      "cell_type": "markdown",
      "metadata": {},
      "source": [
        "## Manual tests"
      ]
    },
    {
      "cell_type": "code",
      "execution_count": null,
      "metadata": {},
      "outputs": [],
      "source": [
        "x_04 = np.array([[0,   0.3, 0.4, 0.7, 0.8],\n",
        "                [0.1, 0.2, 0.5, 0.6, 0.9]])\n",
        "\n",
        "y_p_04 = nn_q_int_04.predict(x_04)\n",
        "y_04 = 10*x_04[0]*x_04[0] - 10*x_04[0]*x_04[1]\n",
        "\n",
        "for u, v in zip(y_p_04[0], y_04):\n",
        "    print(f\"{u: .3f} -- {v: .3f}\")"
      ]
    },
    {
      "cell_type": "markdown",
      "metadata": {},
      "source": [
        "# Test 5: $1 + \\sin(2\\pi X_1)$"
      ]
    },
    {
      "cell_type": "markdown",
      "metadata": {},
      "source": [
        "## Creation of the neural network"
      ]
    },
    {
      "cell_type": "code",
      "execution_count": null,
      "metadata": {},
      "outputs": [],
      "source": [
        "neurons_per_layer_05 = [1, 10, 1]\n",
        "lr_05 = 0.01\n",
        "nn_q_int_05 = Neural_Network_Integer(q_factor, neurons_per_layer_05, lr_05)"
      ]
    },
    {
      "cell_type": "markdown",
      "metadata": {},
      "source": [
        "## Training"
      ]
    },
    {
      "cell_type": "code",
      "execution_count": null,
      "metadata": {},
      "outputs": [],
      "source": [
        "cost_list_05 = nn_q_int_05.fit(X1_train, Y5_train, X1_test, Y5_test, 100, batch_size=10)\n",
        "\n",
        "print_cost_q_int(cost_list_05)\n",
        "print_cost_log_q_int(cost_list_05)"
      ]
    },
    {
      "cell_type": "code",
      "execution_count": null,
      "metadata": {},
      "outputs": [],
      "source": [
        "import numpy as np\n",
        "#[1, 4, 4, 4, 4, 1], \n",
        "# lr: 0.01, \n",
        "#epoch: 20\n",
        "#batch: 1\n",
        "print(cost_list_05[-1]) #0.032\n",
        "print(np.log10(cost_list_05[-1])) #-1.5"
      ]
    },
    {
      "cell_type": "markdown",
      "metadata": {},
      "source": [
        "## Show results"
      ]
    },
    {
      "cell_type": "code",
      "execution_count": null,
      "metadata": {},
      "outputs": [],
      "source": [
        "Y_test_pred_05 = nn_q_int_05.predict(X1_test)\n",
        "\n",
        "print_regression_q_int(X1_train, Y5_train, X1_test, Y5_test, Y_test_pred_05)"
      ]
    },
    {
      "cell_type": "markdown",
      "metadata": {},
      "source": [
        "## Manual tests"
      ]
    },
    {
      "cell_type": "code",
      "execution_count": null,
      "metadata": {},
      "outputs": [],
      "source": [
        "import numpy as np\n",
        "\n",
        "x_05 = np.array([[i/12 for i in range(12)]])\n",
        "y_p_05 = nn_q_int_05.predict(x_05)\n",
        "y_05 = 1 + np.sin(2*np.pi*x_05)\n",
        "\n",
        "\n",
        "for u, v in zip(y_p_05[0], y_05[0]):\n",
        "    print(f\"{u: .2f} -- {v: .2f}\")"
      ]
    },
    {
      "cell_type": "markdown",
      "metadata": {},
      "source": [
        "# Test 6: $\\frac{10}{1 + X_2}$"
      ]
    },
    {
      "cell_type": "markdown",
      "metadata": {},
      "source": [
        "## Creation of the neural network"
      ]
    },
    {
      "cell_type": "code",
      "execution_count": null,
      "metadata": {},
      "outputs": [],
      "source": [
        "neurons_per_layer_06 = [1, 10, 1]\n",
        "lr_06 = 0.002\n",
        "\n",
        "nn_q_int_06 = Neural_Network_Integer(q_factor, neurons_per_layer_06, lr_06)"
      ]
    },
    {
      "cell_type": "markdown",
      "metadata": {},
      "source": [
        "## Training"
      ]
    },
    {
      "cell_type": "code",
      "execution_count": null,
      "metadata": {},
      "outputs": [],
      "source": [
        "cost_list_06 = nn_q_int_06.fit(X2_train, Y6_train, X2_test, Y6_test, 100, batch_size=10)\n",
        "\n",
        "print_cost_q_int(cost_list_06)\n",
        "print_cost_log_q_int(cost_list_06)\n"
      ]
    },
    {
      "cell_type": "markdown",
      "metadata": {},
      "source": [
        "## Show results"
      ]
    },
    {
      "cell_type": "code",
      "execution_count": null,
      "metadata": {},
      "outputs": [],
      "source": [
        "Y_test_pred_06 = nn_q_int_06.predict(X2_test)\n",
        "\n",
        "print_regression_q_int(X2_train, Y6_train, X2_test, Y6_test, Y_test_pred_06)"
      ]
    },
    {
      "cell_type": "markdown",
      "metadata": {},
      "source": [
        "## Manual tests"
      ]
    },
    {
      "cell_type": "code",
      "execution_count": null,
      "metadata": {},
      "outputs": [],
      "source": []
    },
    {
      "cell_type": "markdown",
      "metadata": {},
      "source": [
        "# Test 7: $\\left(X_1 - \\frac{1}{2}\\right)^2 + \\left(X_2 - \\frac{1}{2}\\right)^2 \\leq \\frac{1}{9}$"
      ]
    },
    {
      "cell_type": "markdown",
      "metadata": {},
      "source": [
        "## Creation of the neural network"
      ]
    },
    {
      "cell_type": "code",
      "execution_count": null,
      "metadata": {},
      "outputs": [],
      "source": [
        "neurons_per_layer_07 = [2, 10, 1]\n",
        "lr_07 = 0.01\n",
        "\n",
        "nn_q_int_07 = Neural_Network_Integer(q_factor, neurons_per_layer_07, lr_07)"
      ]
    },
    {
      "cell_type": "markdown",
      "metadata": {},
      "source": [
        "## Training"
      ]
    },
    {
      "cell_type": "code",
      "execution_count": null,
      "metadata": {},
      "outputs": [],
      "source": [
        "cost_list_07 = nn_q_int_07.fit(X1X2_train, Y7_train, X1X2_test, Y7_test, 100, batch_size=10)\n",
        "\n",
        "print_cost_q_int(cost_list_07)\n",
        "print_cost_log_q_int(cost_list_07)\n"
      ]
    },
    {
      "cell_type": "markdown",
      "metadata": {},
      "source": [
        "## Show results"
      ]
    },
    {
      "cell_type": "code",
      "execution_count": null,
      "metadata": {},
      "outputs": [],
      "source": [
        "Y_test_pred_07 = nn_q_int_07.predict(X1X2_test)"
      ]
    },
    {
      "cell_type": "code",
      "execution_count": null,
      "metadata": {},
      "outputs": [],
      "source": [
        "print_classification_q_int(X1X2_train, Y7_train, X1X2_test, Y7_test, Y_test_pred_07, 0.5)"
      ]
    },
    {
      "cell_type": "markdown",
      "metadata": {},
      "source": [
        "## Manual tests"
      ]
    },
    {
      "cell_type": "code",
      "execution_count": null,
      "metadata": {},
      "outputs": [],
      "source": [
        "x_07 = np.array([[0,   0.3, 0.4, 0.7, 0.8],\n",
        "                [0.1, 0.2, 0.5, 0.6, 0.9]])\n",
        "\n",
        "y_p_07 = nn_q_int_07.predict(x_07)\n",
        "y_07 = (x_07[0]-1/2)*(x_07[0]-1/2) + (x_07[1]-1/2)*(x_07[1]-1/2) <= 1/9\n",
        "\n",
        "for y in y_p_07[0]:\n",
        "    print(f\"{y: .2f}\", end = \" \")\n",
        "print()\n",
        "for y in y_p_07[0]:\n",
        "    print(f\"{y >= 0.5}\", end = \" \")\n",
        "print()\n",
        "for y in y_07:\n",
        "    print(f\"{y}\", end = \" \")"
      ]
    },
    {
      "cell_type": "code",
      "execution_count": null,
      "metadata": {},
      "outputs": [],
      "source": [
        "#neurons_per_layer_03 = [1, 2, 2, 1]\n",
        "#lr_03 = 0.0005\n",
        "\n",
        "#nn_q_int_03 = Neural_Network_Integer(q_factor, neurons_per_layer_03, lr_03)\n",
        "\n",
        "\n",
        "#cost_list_03 = nn_q_int_03.fit(X1_train, Y3_train, X1_test, Y3_test, 10)\n",
        "\n",
        "#print_cost_q_int(cost_list_03)\n",
        "#print_cost_log_q_int(cost_list_03)\n",
        "\n",
        "\n",
        "#Y_test_pred_03 = nn_q_int_03.predict(X1_test)\n",
        "\n",
        "#print_regression_q_int(X1_train, Y3_train, X1_test, Y3_test, Y_test_pred_03, nn_q_int_03)\n",
        "\n",
        "\n",
        "#x_03 = np.array([[0, 0.1, 0.2, 0.3, 0.4, 0.5, 0.6, 0.7, 0.8, 0.9, 1]])\n",
        "#y_p_03 = nn_q_int_03.predict(x_03)\n",
        "#y_03 = 100*x_03*x_03\n",
        "\n",
        "\n",
        "#for u, v in zip(y_p_03[0], y_03[0]):\n",
        "#    print(f\"{u: .2f} -- {int(v)}\")"
      ]
    }
  ],
  "metadata": {
    "kernelspec": {
      "display_name": "Python 3 (ipykernel)",
      "language": "python",
      "name": "python3"
    },
    "language_info": {
      "codemirror_mode": {
        "name": "ipython",
        "version": 3
      },
      "file_extension": ".py",
      "mimetype": "text/x-python",
      "name": "python",
      "nbconvert_exporter": "python",
      "pygments_lexer": "ipython3",
      "version": "3.9.12"
    },
    "vscode": {
      "interpreter": {
        "hash": "c8838089fe8c483d31338473a3850a7eaa617e5492d0cdb9fdf5dbb234df1360"
      }
    }
  },
  "nbformat": 4,
  "nbformat_minor": 2
}
