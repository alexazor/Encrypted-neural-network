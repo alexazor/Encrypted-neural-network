{
 "cells": [
  {
   "cell_type": "markdown",
   "metadata": {},
   "source": [
    "# Initialisation"
   ]
  },
  {
   "cell_type": "markdown",
   "metadata": {},
   "source": [
    "## Import libraries and modules"
   ]
  },
  {
   "cell_type": "code",
   "execution_count": 1,
   "metadata": {},
   "outputs": [],
   "source": [
    "import pandas as pd\n",
    "import numpy as np\n",
    "\n",
    "from neural_network import Neural_Network\n",
    "from data_visualisation import *\n",
    "\n",
    "%matplotlib inline"
   ]
  },
  {
   "cell_type": "markdown",
   "metadata": {},
   "source": [
    "## Import data"
   ]
  },
  {
   "cell_type": "code",
   "execution_count": 2,
   "metadata": {},
   "outputs": [
    {
     "data": {
      "text/html": [
       "<div>\n",
       "<style scoped>\n",
       "    .dataframe tbody tr th:only-of-type {\n",
       "        vertical-align: middle;\n",
       "    }\n",
       "\n",
       "    .dataframe tbody tr th {\n",
       "        vertical-align: top;\n",
       "    }\n",
       "\n",
       "    .dataframe thead th {\n",
       "        text-align: right;\n",
       "    }\n",
       "</style>\n",
       "<table border=\"1\" class=\"dataframe\">\n",
       "  <thead>\n",
       "    <tr style=\"text-align: right;\">\n",
       "      <th></th>\n",
       "      <th>X1</th>\n",
       "      <th>X2</th>\n",
       "      <th>Y1</th>\n",
       "      <th>Y2</th>\n",
       "      <th>Y3</th>\n",
       "      <th>Y4</th>\n",
       "      <th>Y5</th>\n",
       "    </tr>\n",
       "  </thead>\n",
       "  <tbody>\n",
       "    <tr>\n",
       "      <th>count</th>\n",
       "      <td>1000.000000</td>\n",
       "      <td>1000.000000</td>\n",
       "      <td>1000.000000</td>\n",
       "      <td>1000.000000</td>\n",
       "      <td>1000.000000</td>\n",
       "      <td>1000.000000</td>\n",
       "      <td>1000.00000</td>\n",
       "    </tr>\n",
       "    <tr>\n",
       "      <th>mean</th>\n",
       "      <td>0.486360</td>\n",
       "      <td>0.506884</td>\n",
       "      <td>3.342952</td>\n",
       "      <td>0.075422</td>\n",
       "      <td>-0.000071</td>\n",
       "      <td>0.690832</td>\n",
       "      <td>0.79200</td>\n",
       "    </tr>\n",
       "    <tr>\n",
       "      <th>std</th>\n",
       "      <td>0.290649</td>\n",
       "      <td>0.293255</td>\n",
       "      <td>3.046706</td>\n",
       "      <td>0.228005</td>\n",
       "      <td>0.703501</td>\n",
       "      <td>0.142182</td>\n",
       "      <td>0.40608</td>\n",
       "    </tr>\n",
       "    <tr>\n",
       "      <th>min</th>\n",
       "      <td>0.000487</td>\n",
       "      <td>0.001385</td>\n",
       "      <td>-2.671098</td>\n",
       "      <td>-0.240719</td>\n",
       "      <td>-0.999965</td>\n",
       "      <td>0.500143</td>\n",
       "      <td>0.00000</td>\n",
       "    </tr>\n",
       "    <tr>\n",
       "      <th>25%</th>\n",
       "      <td>0.229447</td>\n",
       "      <td>0.247266</td>\n",
       "      <td>0.743894</td>\n",
       "      <td>-0.068350</td>\n",
       "      <td>-0.694358</td>\n",
       "      <td>0.570024</td>\n",
       "      <td>1.00000</td>\n",
       "    </tr>\n",
       "    <tr>\n",
       "      <th>50%</th>\n",
       "      <td>0.482586</td>\n",
       "      <td>0.509133</td>\n",
       "      <td>3.355768</td>\n",
       "      <td>-0.002612</td>\n",
       "      <td>-0.006628</td>\n",
       "      <td>0.662632</td>\n",
       "      <td>1.00000</td>\n",
       "    </tr>\n",
       "    <tr>\n",
       "      <th>75%</th>\n",
       "      <td>0.738234</td>\n",
       "      <td>0.754311</td>\n",
       "      <td>5.939717</td>\n",
       "      <td>0.169450</td>\n",
       "      <td>0.706686</td>\n",
       "      <td>0.801754</td>\n",
       "      <td>1.00000</td>\n",
       "    </tr>\n",
       "    <tr>\n",
       "      <th>max</th>\n",
       "      <td>0.999972</td>\n",
       "      <td>0.999426</td>\n",
       "      <td>9.688852</td>\n",
       "      <td>0.922151</td>\n",
       "      <td>0.999998</td>\n",
       "      <td>0.998617</td>\n",
       "      <td>1.00000</td>\n",
       "    </tr>\n",
       "  </tbody>\n",
       "</table>\n",
       "</div>"
      ],
      "text/plain": [
       "                X1           X2           Y1           Y2           Y3  \\\n",
       "count  1000.000000  1000.000000  1000.000000  1000.000000  1000.000000   \n",
       "mean      0.486360     0.506884     3.342952     0.075422    -0.000071   \n",
       "std       0.290649     0.293255     3.046706     0.228005     0.703501   \n",
       "min       0.000487     0.001385    -2.671098    -0.240719    -0.999965   \n",
       "25%       0.229447     0.247266     0.743894    -0.068350    -0.694358   \n",
       "50%       0.482586     0.509133     3.355768    -0.002612    -0.006628   \n",
       "75%       0.738234     0.754311     5.939717     0.169450     0.706686   \n",
       "max       0.999972     0.999426     9.688852     0.922151     0.999998   \n",
       "\n",
       "                Y4          Y5  \n",
       "count  1000.000000  1000.00000  \n",
       "mean      0.690832     0.79200  \n",
       "std       0.142182     0.40608  \n",
       "min       0.500143     0.00000  \n",
       "25%       0.570024     1.00000  \n",
       "50%       0.662632     1.00000  \n",
       "75%       0.801754     1.00000  \n",
       "max       0.998617     1.00000  "
      ]
     },
     "execution_count": 2,
     "metadata": {},
     "output_type": "execute_result"
    }
   ],
   "source": [
    "data_set = pd.read_excel(\"../data/data-1000.xlsx\")\n",
    "data_set.describe()\n"
   ]
  },
  {
   "cell_type": "markdown",
   "metadata": {},
   "source": [
    "# Test 0: Identity"
   ]
  },
  {
   "cell_type": "markdown",
   "metadata": {},
   "source": [
    "## Creating the neural network"
   ]
  },
  {
   "cell_type": "code",
   "execution_count": 3,
   "metadata": {},
   "outputs": [],
   "source": [
    "neurons_per_layer = [1, 2, 1]\n",
    "lr = 0.001\n",
    "\n",
    "nn_0 = Neural_Network(neurons_per_layer, lr)"
   ]
  },
  {
   "cell_type": "markdown",
   "metadata": {},
   "source": [
    "## Extracting the useful data"
   ]
  },
  {
   "cell_type": "code",
   "execution_count": 4,
   "metadata": {},
   "outputs": [
    {
     "name": "stdout",
     "output_type": "stream",
     "text": [
      "(1, 800)\n",
      "(1, 200)\n"
     ]
    }
   ],
   "source": [
    "X1_df = data_set[[\"X1\"]]\n",
    "X1 = X1_df.to_numpy()\n",
    "X1 = np.transpose(X1)\n",
    "\n",
    "total_set_size = X1.shape[1]\n",
    "train_set_size = int(0.8*total_set_size)\n",
    "\n",
    "X_train = X1[:, :train_set_size]\n",
    "X_test = X1[:, train_set_size:]\n",
    "\n",
    "print(X_train.shape)\n",
    "print(X_test.shape)"
   ]
  },
  {
   "cell_type": "code",
   "execution_count": 11,
   "metadata": {},
   "outputs": [
    {
     "data": {
      "image/png": "[encoded data removed]",
      "text/plain": [
       "<Figure size 432x288 with 1 Axes>"
      ]
     },
     "metadata": {
      "needs_background": "light"
     },
     "output_type": "display_data"
    },
    {
     "data": {
      "image/png": "[encoded data removed]",
      "text/plain": [
       "<Figure size 432x288 with 1 Axes>"
      ]
     },
     "metadata": {
      "needs_background": "light"
     },
     "output_type": "display_data"
    }
   ],
   "source": [
    "cost_list = nn_0.fit(X_train, X_train, X_test, X_test, 10, 1)\n",
    "\n",
    "print_cost(cost_list)\n",
    "print_cost_log(cost_list)"
   ]
  },
  {
   "cell_type": "code",
   "execution_count": 12,
   "metadata": {},
   "outputs": [
    {
     "data": {
      "image/png": "[encoded data removed]",
      "text/plain": [
       "<Figure size 432x288 with 1 Axes>"
      ]
     },
     "metadata": {
      "needs_background": "light"
     },
     "output_type": "display_data"
    }
   ],
   "source": [
    "print_regression(X_train, X_train, X_test, X_test, nn_0)"
   ]
  },
  {
   "cell_type": "code",
   "execution_count": 13,
   "metadata": {},
   "outputs": [
    {
     "name": "stdout",
     "output_type": "stream",
     "text": [
      "[[0.09989352 0.19990528 0.29991704 0.3999288  0.49994056]]\n"
     ]
    }
   ],
   "source": [
    "x = np.array([[0.1, 0.2, 0.3, 0.4, 0.5]])\n",
    "y_p = nn_0.predict(x)\n",
    "\n",
    "print(y_p)"
   ]
  },
  {
   "cell_type": "code",
   "execution_count": 14,
   "metadata": {},
   "outputs": [
    {
     "name": "stdout",
     "output_type": "stream",
     "text": [
      "[9.276219575495327e-05, 8.144474619620831e-05, 7.186448085700308e-05, 6.368914039368249e-05, 5.6707414505924855e-05, 5.0710183021451646e-05, 4.551322790103776e-05, 4.099103486635524e-05, 3.704889018891858e-05, 3.361173556321688e-05, 3.059563416995101e-05]\n"
     ]
    }
   ],
   "source": [
    "print(cost_list)"
   ]
  },
  {
   "cell_type": "code",
   "execution_count": 15,
   "metadata": {},
   "outputs": [
    {
     "name": "stdout",
     "output_type": "stream",
     "text": [
      "[array([[4.9939838 ],\n",
      "       [1.61903419]]), array([[0.18127144, 0.05858488]])]\n",
      "[array([[-0.19793247],\n",
      "       [-0.07296202]]), array([[0.04003574]])]\n"
     ]
    }
   ],
   "source": [
    "print(nn_0.weights_list)\n",
    "\n",
    "print(nn_0.biais_list)"
   ]
  }
 ],
 "metadata": {
  "kernelspec": {
   "display_name": "Python 3 (ipykernel)",
   "language": "python",
   "name": "python3"
  },
  "language_info": {
   "codemirror_mode": {
    "name": "ipython",
    "version": 3
   },
   "file_extension": ".py",
   "mimetype": "text/x-python",
   "name": "python",
   "nbconvert_exporter": "python",
   "pygments_lexer": "ipython3",
   "version": "3.7.4"
  },
  "vscode": {
   "interpreter": {
    "hash": "c8838089fe8c483d31338473a3850a7eaa617e5492d0cdb9fdf5dbb234df1360"
   }
  }
 },
 "nbformat": 4,
 "nbformat_minor": 2
}
